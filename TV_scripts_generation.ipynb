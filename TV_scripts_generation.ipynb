{
 "cells": [
  {
   "cell_type": "markdown",
   "metadata": {},
   "source": [
    "# TV Script Generation\n",
    "\n",
    "In this project, I will generate my own [Seinfeld](https://en.wikipedia.org/wiki/Seinfeld) TV scripts using [Recurrent Neural Networks](https://en.wikipedia.org/wiki/Recurrent_neural_network). I will be using a part of the [Seinfeld dataset](https://www.kaggle.com/thec03u5/seinfeld-chronicles#scripts.csv) of scripts from 9 seasons. The Neural Network will generate a new \"fake\" TV script based on patterns it recognizes in this training data.\n",
    "\n",
    "The general structure of LSTM (a type of RNN with a more complex structure) looks like this: \n",
    "\n",
    "![LSTM](lstm_structure.png)\n",
    "\n",
    "One of the applications of RNN is text generation which can be reframed as a problem of predicting the next most likely word based on the current and the previous words in the sequence: \n",
    "\n",
    "![Words](words.png)\n",
    "\n",
    "Let's proceed with getting / exploring the data and building a network for predictions. \n",
    "\n",
    "## Get the Data\n",
    "\n",
    "The data is located in `./data/Seinfeld_Scripts.txt`. "
   ]
  },
  {
   "cell_type": "code",
   "execution_count": 1,
   "metadata": {},
   "outputs": [],
   "source": [
    "# Load the data\n",
    "import helper\n",
    "data_dir = './data/Seinfeld_Scripts.txt'\n",
    "text = helper.load_data(data_dir)"
   ]
  },
  {
   "cell_type": "markdown",
   "metadata": {},
   "source": [
    "## Explore the Data\n",
    "\n",
    "The dataset is all lowercase text, and each new line of dialogue is separated by a newline character `\\n`."
   ]
  },
  {
   "cell_type": "code",
   "execution_count": 5,
   "metadata": {},
   "outputs": [
    {
     "name": "stdout",
     "output_type": "stream",
     "text": [
      "Dataset Stats\n",
      "Roughly the number of unique words: 46367\n",
      "Number of lines: 109233\n",
      "Average number of words in each line: 5.544240293684143\n",
      "\n",
      "The lines 0 to 10:\n",
      "jerry: do you know what this is all about? do you know, why were here? to be out, this is out...and out is one of the single most enjoyable experiences of life. people...did you ever hear people talking about we should go out? this is what theyre talking about...this whole thing, were all out now, no one is home. not one person here is home, were all out! there are people trying to find us, they dont know where we are. (on an imaginary phone) did you ring?, i cant find him. where did he go? he didnt tell me where he was going. he must have gone out. you wanna go out you get ready, you pick out the clothes, right? you take the shower, you get all ready, get the cash, get your friends, the car, the spot, the reservation...then youre standing around, what do you do? you go we gotta be getting back. once youre out, you wanna get back! you wanna go to sleep, you wanna get up, you wanna go out again tomorrow, right? where ever you are in life, its my feeling, youve gotta go. \n",
      "\n",
      "jerry: (pointing at georges shirt) see, to me, that button is in the worst possible spot. the second button literally makes or breaks the shirt, look at it. its too high! its in no-mans-land. you look like you live with your mother. \n",
      "\n",
      "george: are you through? \n",
      "\n",
      "jerry: you do of course try on, when you buy? \n",
      "\n",
      "george: yes, it was purple, i liked it, i dont actually recall considering the buttons. \n",
      "\n"
     ]
    }
   ],
   "source": [
    "import numpy as np\n",
    "\n",
    "view_line_range = (0, 10)\n",
    "\n",
    "print('Dataset Stats')\n",
    "print('Roughly the number of unique words: {}'.format(len({word: None for word in text.split()})))\n",
    "\n",
    "lines = text.split('\\n')\n",
    "print('Number of lines: {}'.format(len(lines)))\n",
    "word_count_line = [len(line.split()) for line in lines]\n",
    "print('Average number of words in each line: {}'.format(np.average(word_count_line)))\n",
    "\n",
    "print()\n",
    "print('The lines {} to {}:'.format(*view_line_range))\n",
    "print('\\n'.join(text.split('\\n')[view_line_range[0]:view_line_range[1]]))"
   ]
  },
  {
   "cell_type": "markdown",
   "metadata": {},
   "source": [
    "---\n",
    "## Implement Pre-processing Functions\n",
    "The first thing to do to any dataset is pre-processing. The following pre-processing functions are implemented below:\n",
    "- Lookup Table\n",
    "- Tokenize Punctuation\n",
    "\n",
    "### Lookup Table\n",
    "To create a word embedding, I first need to transform the words to unique ids. In this function we will, create two dictionaries:\n",
    "- Dictionary to go from the words to an id: `vocab_to_int`\n",
    "- Dictionary to go from the id to word: `int_to_vocab`\n",
    "\n",
    "These dictionaries will be returned in the following **tuple** `(vocab_to_int, int_to_vocab)`"
   ]
  },
  {
   "cell_type": "code",
   "execution_count": 6,
   "metadata": {},
   "outputs": [
    {
     "name": "stdout",
     "output_type": "stream",
     "text": [
      "Tests Passed\n"
     ]
    }
   ],
   "source": [
    "import problem_unittests as tests\n",
    "from collections import Counter # for processing \n",
    "\n",
    "def text_split(text): \n",
    "    return text.split() \n",
    "    \n",
    "\n",
    "def create_lookup_tables(text):\n",
    "    \"\"\"\n",
    "    :param text: The text of tv scripts split into words\n",
    "    :return: A tuple of dicts (vocab_to_int, int_to_vocab)\n",
    "    \"\"\"\n",
    "    # Counter \n",
    "    word_counts = Counter(text)\n",
    "    \n",
    "    # Sorting the words from most to least frequent in text occurrence\n",
    "    sorted_vocab = sorted(word_counts, key=word_counts.get, reverse=True)\n",
    "    \n",
    "    # Create dictionaries\n",
    "    int_to_vocab = {ii: word for ii, word in enumerate(sorted_vocab)}\n",
    "    vocab_to_int = {word: ii for ii, word in int_to_vocab.items()}\n",
    "    \n",
    "    # return tuple\n",
    "    return (vocab_to_int, int_to_vocab)\n",
    "\n",
    "# Unit tests \n",
    "tests.test_create_lookup_tables(create_lookup_tables)"
   ]
  },
  {
   "cell_type": "markdown",
   "metadata": {},
   "source": [
    "### Tokenize Punctuation\n",
    "We will be splitting the script into a word array using spaces as delimiters.  However, punctuations like periods and exclamation marks can create multiple ids for the same word. For example, \"bye\" and \"bye!\" would generate two different word ids.\n",
    "\n",
    "I have implemented the function `token_lookup` to return a dict that will be used to tokenize symbols like \"!\" into \"||Exclamation_Mark||\". The following dictionary will be created for the symbols where the symbol is the key and value is the token:\n",
    "- Period ( **.** )\n",
    "- Comma ( **,** )\n",
    "- Quotation Mark ( **\"** )\n",
    "- Semicolon ( **;** )\n",
    "- Exclamation mark ( **!** )\n",
    "- Question mark ( **?** )\n",
    "- Left Parentheses ( **(** )\n",
    "- Right Parentheses ( **)** )\n",
    "- Dash ( **-** )\n",
    "- Return ( **\\n** )\n",
    "\n",
    "This dictionary will be used to tokenize the symbols and to add the delimiter (space) around it. This separates each symbols as its own word, making it easier for the neural network to predict the next word. "
   ]
  },
  {
   "cell_type": "code",
   "execution_count": 7,
   "metadata": {},
   "outputs": [
    {
     "name": "stdout",
     "output_type": "stream",
     "text": [
      "Tests Passed\n"
     ]
    }
   ],
   "source": [
    "def token_lookup():\n",
    "    \"\"\"\n",
    "    Generating a dict to turn punctuation into a token.\n",
    "    :return: Tokenized dictionary where the key is the punctuation and the value is the token\n",
    "    \"\"\"\n",
    "    # Text special symbols replacement \n",
    "    dict_punct = {\n",
    "        '.': '<PERIOD>',  \n",
    "        ',': '<COMMA>',\n",
    "        '\"': '<QUOTATION_MARK>',\n",
    "        ';': '<SEMICOLON>',\n",
    "        '!': '<EXCLAMATION_MARK>',\n",
    "        '?': '<QUESTION_MARK>',\n",
    "        '(': '<LEFT_PAREN>',\n",
    "        ')': '<RIGHT_PAREN>',\n",
    "        '-': '<DASH>',  \n",
    "        '\\n': '<NEW_LINE>'\n",
    "    }\n",
    "    \n",
    "    return dict_punct\n",
    "        \n",
    "# Unit tests\n",
    "tests.test_tokenize(token_lookup)"
   ]
  },
  {
   "cell_type": "markdown",
   "metadata": {},
   "source": [
    "## Pre-process all the data and save it\n",
    "\n",
    "Running the code cell below pre-processes all the data and saves it to a file. "
   ]
  },
  {
   "cell_type": "code",
   "execution_count": 8,
   "metadata": {},
   "outputs": [],
   "source": [
    "# Pre-process training data\n",
    "helper.preprocess_and_save_data(data_dir, token_lookup, create_lookup_tables)"
   ]
  },
  {
   "cell_type": "markdown",
   "metadata": {},
   "source": [
    "## Check Point\n",
    "This is a checkpoint to work with the preprocessed data which has been saved to disk."
   ]
  },
  {
   "cell_type": "code",
   "execution_count": 9,
   "metadata": {},
   "outputs": [],
   "source": [
    "import helper\n",
    "import problem_unittests as tests\n",
    "\n",
    "int_text, vocab_to_int, int_to_vocab, token_dict = helper.load_preprocess()"
   ]
  },
  {
   "cell_type": "markdown",
   "metadata": {},
   "source": [
    "## Build the Neural Network\n",
    "In this section, I am building the components necessary to build an RNN by implementing the RNN Module and forward / backpropagation functions.\n",
    "\n",
    "### Check Access to GPU"
   ]
  },
  {
   "cell_type": "code",
   "execution_count": 10,
   "metadata": {},
   "outputs": [],
   "source": [
    "import torch\n",
    "\n",
    "# Check for a GPU\n",
    "train_on_gpu = torch.cuda.is_available()\n",
    "if not train_on_gpu:\n",
    "    print('No GPU found. Please use a GPU to train your neural network.')"
   ]
  },
  {
   "cell_type": "markdown",
   "metadata": {},
   "source": [
    "## Input\n",
    "Let's start with the preprocessed input data. We'll use [TensorDataset](http://pytorch.org/docs/master/data.html#torch.utils.data.TensorDataset) to provide a known format to our dataset; in combination with [DataLoader](http://pytorch.org/docs/master/data.html#torch.utils.data.DataLoader), it will handle batching, shuffling, and other dataset iteration functions.\n",
    "\n",
    "Data with TensorDataset can be created by passing in feature and target tensors. Then I will create a DataLoader.\n",
    "```\n",
    "data = TensorDataset(feature_tensors, target_tensors)\n",
    "data_loader = torch.utils.data.DataLoader(data, \n",
    "                                          batch_size=batch_size)\n",
    "```\n",
    "\n",
    "### Batching\n",
    "The `batch_data` function is implemented to batch `words` data into chunks of size `batch_size` using the `TensorDataset` and `DataLoader` classes.\n",
    "\n",
    "> We will create `feature_tensors` and `target_tensors` of the correct size and content for a given `sequence_length`.\n",
    "\n",
    "For example, say we have these as input:\n",
    "```\n",
    "words = [1, 2, 3, 4, 5, 6, 7]\n",
    "sequence_length = 4\n",
    "```\n",
    "\n",
    "Your first `feature_tensor` should contain the values:\n",
    "```\n",
    "[1, 2, 3, 4]\n",
    "```\n",
    "And the corresponding `target_tensor` should just be the next \"word\"/tokenized word value:\n",
    "```\n",
    "5\n",
    "```\n",
    "This should continue with the second `feature_tensor`, `target_tensor` being:\n",
    "```\n",
    "[2, 3, 4, 5]  # features\n",
    "6             # target\n",
    "```"
   ]
  },
  {
   "cell_type": "code",
   "execution_count": 11,
   "metadata": {},
   "outputs": [],
   "source": [
    "from torch.utils.data import TensorDataset, DataLoader\n",
    "\n",
    "def batch_data(words, sequence_length, batch_size):\n",
    "    \"\"\"\n",
    "    Batching the neural network data using DataLoader\n",
    "    :param words: The word ids of the TV scripts\n",
    "    :param sequence_length: The sequence length of each batch\n",
    "    :param batch_size: The size of each batch; the number of sequences in a batch\n",
    "    :return: DataLoader with batched data\n",
    "    \"\"\"\n",
    "    # Cropping text to fully generate batches, need to round to min; length + 1 target\n",
    "    n_batches = len(words)//(sequence_length + 1)\n",
    "\n",
    "    x_arr, y_arr = [], []\n",
    "    \n",
    "    # Generating simple lists first\n",
    "    for i in range(0, n_batches): \n",
    "        i_from = (sequence_length + 1)*i\n",
    "        i_to = (sequence_length + 1)*(i+1) - 1\n",
    "        i_label = (sequence_length + 1)*(i+1) - 1 \n",
    "\n",
    "        x_arr.append(int_text[i_from:i_to])\n",
    "        y_arr.append(int_text[i_label])\n",
    "    \n",
    "    # Converting to torch tensors\n",
    "    x_arr = torch.from_numpy(np.array(x_arr))\n",
    "    y_arr = torch.from_numpy(np.array(y_arr))\n",
    "\n",
    "    training_set = TensorDataset(x_arr, y_arr)\n",
    "\n",
    "    dataloader = DataLoader(training_set, batch_size=batch_size, shuffle=True)\n",
    "    \n",
    "    # returning a dataloader\n",
    "    return dataloader\n",
    "\n",
    "# Test the loader \n",
    "test_loader = batch_data(int_text, sequence_length=4, batch_size=1)\n",
    "\n",
    "# Get data from the loader \n",
    "data_iter = iter(test_loader)"
   ]
  },
  {
   "cell_type": "code",
   "execution_count": 12,
   "metadata": {},
   "outputs": [
    {
     "name": "stdout",
     "output_type": "stream",
     "text": [
      "Tensor: [tensor([[    0,    13,     6,  2778]]), tensor([ 2])]\n",
      "\n",
      "Features:\n",
      "<new_line>\n",
      "george:\n",
      "the\n",
      "tag\n",
      "\n",
      "Next word: <comma>\n"
     ]
    }
   ],
   "source": [
    "# Check the generated set\n",
    "test_tensor = data_iter.next()\n",
    "print('Tensor:', test_tensor)\n",
    "\n",
    "sequence = test_tensor[0].numpy()\n",
    "next_word = test_tensor[1].numpy()\n",
    "\n",
    "print('\\nFeatures:')\n",
    "\n",
    "for elem in sequence[0]: \n",
    "    print(int_to_vocab[[elem][0]])\n",
    "\n",
    "print('\\nNext word:', int_to_vocab[next_word[0]])\n",
    "    \n",
    "#print (int_to_vocab[next_word])"
   ]
  },
  {
   "cell_type": "markdown",
   "metadata": {},
   "source": [
    "### Testing the dataloader \n",
    "\n",
    "Below, we are generating some test text data and defining a dataloader using the function I defined above. Then, we are getting some sample batch of inputs `sample_x` and targets `sample_y` from our dataloader.\n",
    "\n",
    "Your code should return something like the following:\n",
    "\n",
    "```\n",
    "torch.Size([10, 5])\n",
    "tensor([[ 28,  29,  30,  31,  32],\n",
    "        [ 21,  22,  23,  24,  25],\n",
    "        [ 17,  18,  19,  20,  21],\n",
    "        [ 34,  35,  36,  37,  38],\n",
    "        [ 11,  12,  13,  14,  15],\n",
    "        [ 23,  24,  25,  26,  27],\n",
    "        [  6,   7,   8,   9,  10],\n",
    "        [ 38,  39,  40,  41,  42],\n",
    "        [ 25,  26,  27,  28,  29],\n",
    "        [  7,   8,   9,  10,  11]])\n",
    "\n",
    "torch.Size([10])\n",
    "tensor([ 33,  26,  22,  39,  16,  28,  11,  43,  30,  12])\n",
    "```\n",
    "\n",
    "### Sizes\n",
    "Our sample_x should be of size `(batch_size, sequence_length)` or (10, 5) in this case and sample_y should just have one dimension: batch_size (10). \n",
    "\n",
    "### Values\n",
    "\n",
    "The targets, sample_y, are the *next* value in the ordered test_text data. So, for an input sequence `[ 28,  29,  30,  31,  32]` that ends with the value `32`, the corresponding output should be `33`."
   ]
  },
  {
   "cell_type": "code",
   "execution_count": 13,
   "metadata": {},
   "outputs": [
    {
     "name": "stdout",
     "output_type": "stream",
     "text": [
      "torch.Size([8, 5])\n",
      "tensor([[ 1252,   545,  8782,  7189,    20],\n",
      "        [   22,    18,   677,   208,    58],\n",
      "        [   17,    47,    22,    82,    20],\n",
      "        [   55,   135,    64,    47,     3],\n",
      "        [   24,    22,    47,     1,     1],\n",
      "        [    1,     1,    24,   220,   126],\n",
      "        [    1,   149,     1,     1,     1],\n",
      "        [    4,   200,   238,   149,   208]])\n",
      "\n",
      "torch.Size([8])\n",
      "tensor([ 241,    1,    6,   24,    1,    2,   84,   58])\n"
     ]
    }
   ],
   "source": [
    "# Test dataloader\n",
    "\n",
    "test_text = range(50)\n",
    "t_loader = batch_data(test_text, sequence_length=5, batch_size=10)\n",
    "\n",
    "data_iter = iter(t_loader)\n",
    "sample_x, sample_y = data_iter.next()\n",
    "\n",
    "print(sample_x.shape)\n",
    "print(sample_x)\n",
    "print()\n",
    "print(sample_y.shape)\n",
    "print(sample_y)"
   ]
  },
  {
   "cell_type": "markdown",
   "metadata": {},
   "source": [
    "---\n",
    "## Building the Neural Network\n",
    "I will implement an RNN using PyTorch's [Module class](http://pytorch.org/docs/master/nn.html#torch.nn.Module). To complete the RNN, I have to implement the following functions for the class:\n",
    " - `__init__` - The initialize function. \n",
    " - `init_hidden` - The initialization function for an LSTM/GRU hidden state\n",
    " - `forward` - Forward propagation function.\n",
    " \n",
    "The initialize function is creating the layers of the neural network and is saving them to the class. The forward propagation function uses these layers to run forward propagation and to generate an output and a hidden state.\n",
    "\n",
    "**The output of this model should be the *last* batch of word scores** after a complete sequence has been processed. That is, for each input sequence of words, we only want to output the word scores for a single, most likely, next word.\n",
    "\n",
    "### Notes\n",
    "\n",
    "1. I am making sure to stack the outputs of the lstm to pass to the fully-connected layer, which is done with `lstm_output = lstm_output.contiguous().view(-1, self.hidden_dim)`\n",
    "2. The last batch of word scores is checked by shaping the output of the final, fully-connected layer like this:\n",
    "\n",
    "```\n",
    "# reshape into (batch_size, seq_length, output_size)\n",
    "output = output.view(batch_size, -1, self.output_size)\n",
    "# get last batch\n",
    "out = output[:, -1]\n",
    "```"
   ]
  },
  {
   "cell_type": "code",
   "execution_count": 14,
   "metadata": {},
   "outputs": [
    {
     "name": "stdout",
     "output_type": "stream",
     "text": [
      "Tests Passed\n"
     ]
    }
   ],
   "source": [
    "import torch.nn as nn\n",
    "\n",
    "class RNN(nn.Module):\n",
    "    \n",
    "    def __init__(self, vocab_size, output_size, embedding_dim, hidden_dim, n_layers, dropout=0.5):\n",
    "        \"\"\"\n",
    "        Initializing the PyTorch RNN Module\n",
    "        :param vocab_size: The number of input dimensions of the neural network (the size of the vocabulary)\n",
    "        :param output_size: The number of output dimensions of the neural network\n",
    "        :param embedding_dim: The size of embeddings, should you choose to use them        \n",
    "        :param hidden_dim: The size of the hidden layer outputs\n",
    "        :param dropout: dropout to add in between LSTM/GRU layers\n",
    "        \"\"\"\n",
    "        super(RNN, self).__init__()\n",
    "        \n",
    "        ## Class variables\n",
    "        self.output_size = output_size\n",
    "        self.n_layers = n_layers\n",
    "        self.hidden_dim = hidden_dim\n",
    "        \n",
    "        ## Model layers\n",
    "        # Embedding / LSTM\n",
    "        self.embedding = nn.Embedding(vocab_size, embedding_dim)\n",
    "        self.lstm = nn.LSTM(embedding_dim, hidden_dim, n_layers, dropout=dropout, batch_first=True)\n",
    "                \n",
    "        # linear layer\n",
    "        self.fc = nn.Linear(hidden_dim, output_size)\n",
    "    \n",
    "    \n",
    "    def forward(self, nn_input, hidden):\n",
    "        \"\"\"\n",
    "        Forward propagation of the neural network\n",
    "        :param nn_input: The input to the neural network\n",
    "        :param hidden: The hidden state        \n",
    "        :return: Two Tensors, the output of the neural network and the latest hidden state\n",
    "        \"\"\"\n",
    "        \n",
    "        batch_size = nn_input.size(0) # get the batch size \n",
    "\n",
    "        # Embeddings and LSTM output \n",
    "        embed = self.embedding(nn_input)\n",
    "        lstm_out, hidden = self.lstm(embed, hidden)\n",
    "        \n",
    "        # Stack LSTM output\n",
    "        lstm_out = lstm_out.contiguous().view(-1, self.hidden_dim)\n",
    "        \n",
    "        # FC layer \n",
    "        output = self.fc(lstm_out)\n",
    "        \n",
    "        # Reshape according to the batch size and output size\n",
    "        output = output.view(batch_size, -1, self.output_size)\n",
    "        out = output[:, -1] # get the last batch of labels as an output of FF       \n",
    "        \n",
    "        # Return one batch of output word scores and the hidden state\n",
    "        return out, hidden\n",
    "    \n",
    "    \n",
    "    def init_hidden(self, batch_size):\n",
    "        '''\n",
    "        Initializing the hidden state of an LSTM/GRU\n",
    "        :param batch_size: The batch_size of the hidden state\n",
    "        :return: hidden state of dims (n_layers, batch_size, hidden_dim)\n",
    "        '''\n",
    "        # Initializing hidden state with zero weights and moving to GPU if available\n",
    "\n",
    "        weight = next(self.parameters()).data\n",
    "        \n",
    "        if (train_on_gpu):\n",
    "            hidden = (weight.new(self.n_layers, batch_size, self.hidden_dim).zero_().cuda(),\n",
    "                  weight.new(self.n_layers, batch_size, self.hidden_dim).zero_().cuda())\n",
    "        else:\n",
    "            hidden = (weight.new(self.n_layers, batch_size, self.hidden_dim).zero_(),\n",
    "                      weight.new(self.n_layers, batch_size, self.hidden_dim).zero_())\n",
    "        \n",
    "        return hidden\n",
    "\n",
    "# Unit tests\n",
    "tests.test_rnn(RNN, train_on_gpu)"
   ]
  },
  {
   "cell_type": "markdown",
   "metadata": {},
   "source": [
    "### Defining forward and backpropagation\n",
    "\n",
    "I will use the implemented RNN class to apply forward and back propagation. This function will be called, iteratively, in the training loop as follows:\n",
    "```\n",
    "loss = forward_back_prop(decoder, decoder_optimizer, criterion, inp, target)\n",
    "```\n",
    "\n",
    "It returns the average loss over a batch and the hidden state returned by a call to `RNN(inp, hidden)`. I can get this loss by computing it and calling `loss.item()`."
   ]
  },
  {
   "cell_type": "code",
   "execution_count": 15,
   "metadata": {},
   "outputs": [
    {
     "name": "stdout",
     "output_type": "stream",
     "text": [
      "Tests Passed\n"
     ]
    }
   ],
   "source": [
    "def forward_back_prop(rnn, optimizer, criterion, inp, target, hidden):\n",
    "    \"\"\"\n",
    "    Forward and backward propagation on the neural network\n",
    "    :param decoder: The PyTorch Module that holds the neural network\n",
    "    :param decoder_optimizer: The PyTorch optimizer for the neural network\n",
    "    :param criterion: The PyTorch loss function\n",
    "    :param inp: A batch of input to the neural network\n",
    "    :param target: The target output for the batch of input\n",
    "    :return: The loss and the latest hidden state Tensor\n",
    "    \"\"\"\n",
    "    \n",
    "    # Move data to GPU, if available\n",
    "    if(train_on_gpu):\n",
    "        rnn.cuda()\n",
    "\n",
    "    # perform backpropagation and optimization\n",
    "    h = tuple([each.data for each in hidden])   # hidden state values\n",
    "\n",
    "    rnn.zero_grad()  # zero out accumulated gradients\n",
    "    \n",
    "    if(train_on_gpu):\n",
    "        inp, target = inp.cuda(), target.cuda()\n",
    "        \n",
    "    # model output\n",
    "    output, h = rnn(inp, h)  \n",
    "    \n",
    "    # calculate the loss and perform backpropagation\n",
    "    loss = criterion(output, target)\n",
    "    loss.backward()\n",
    "    \n",
    "    # clip_grad_norm prevents the exploding gradient problem in RNN / LSTM\n",
    "    nn.utils.clip_grad_norm_(rnn.parameters(), 5)\n",
    "    optimizer.step()\n",
    "\n",
    "    # return the loss over a batch and the hidden state produced by our model\n",
    "    return loss.item(), h\n",
    "\n",
    "# Unit tests\n",
    "tests.test_forward_back_prop(RNN, forward_back_prop, train_on_gpu)"
   ]
  },
  {
   "cell_type": "markdown",
   "metadata": {},
   "source": [
    "## Neural Network Training\n",
    "\n",
    "With the structure of the network complete and data ready to be fed in the neural network, it is now time to train it.\n",
    "\n",
    "### Train Loop\n",
    "\n",
    "The training loop is implemented in the `train_decoder` function. This function will train the network over all the batches for the number of epochs given. The model progress will be shown every number of batches. This number is set with the `show_every_n_batches` parameter. "
   ]
  },
  {
   "cell_type": "code",
   "execution_count": 28,
   "metadata": {},
   "outputs": [],
   "source": [
    "# Save a model when loss is decreasing, use baseline here\n",
    "loss_val = float('inf')\n",
    "\n",
    "def train_rnn(rnn, batch_size, optimizer, criterion, n_epochs, show_every_n_batches=100):\n",
    "    batch_losses = []\n",
    "    \n",
    "    rnn.train()\n",
    "\n",
    "    print(\"Training for %d epoch(s)...\" % n_epochs)\n",
    "    for epoch_i in range(1, n_epochs + 1):\n",
    "        \n",
    "        # initialize hidden state\n",
    "        hidden = rnn.init_hidden(batch_size)\n",
    "        \n",
    "        for batch_i, (inputs, labels) in enumerate(train_loader, 1):\n",
    "            \n",
    "            # make sure you iterate over completely full batches, only\n",
    "            n_batches = len(train_loader.dataset)//batch_size\n",
    "            if(batch_i > n_batches):\n",
    "                break\n",
    "            \n",
    "            # forward, back prop\n",
    "            loss, hidden = forward_back_prop(rnn, optimizer, criterion, inputs, labels, hidden)          \n",
    "            # record loss\n",
    "            batch_losses.append(loss)\n",
    "\n",
    "            # printing loss stats\n",
    "            if batch_i % show_every_n_batches == 0:\n",
    "                print('Epoch: {:>4}/{:<4}  Loss: {}\\n'.format(\n",
    "                    epoch_i, n_epochs, np.average(batch_losses)))\n",
    "                \n",
    "                # save if a loss is decreasing \n",
    "                if np.average(batch_losses) < loss_val: \n",
    "                    print('Loss decreased. Saving the model...')\n",
    "                    helper.save_model('./save/trained_rnn', rnn)        \n",
    "                \n",
    "                batch_losses = []\n",
    "\n",
    "    # returns a trained rnn\n",
    "    return rnn"
   ]
  },
  {
   "cell_type": "markdown",
   "metadata": {},
   "source": [
    "### Hyperparameters\n",
    "\n",
    "I will set and train the neural network with the following parameters:\n",
    "- `sequence_length` to the length of a sequence.\n",
    "- `batch_size` to the batch size.\n",
    "- `num_epochs` to the number of epochs to train for.\n",
    "- `learning_rate` to the learning rate for an Adam optimizer.\n",
    "- `vocab_size` to the number of uniqe tokens in our vocabulary.\n",
    "- `output_size` to the desired size of the output.\n",
    "- `embedding_dim` to the embedding dimension; smaller than the vocab_size.\n",
    "- `hidden_dim` to the hidden dimension of your RNN.\n",
    "- `n_layers` to the number of layers/cells in your RNN.\n",
    "- `show_every_n_batches` to the number of batches at which the neural network should print progress."
   ]
  },
  {
   "cell_type": "code",
   "execution_count": 29,
   "metadata": {},
   "outputs": [],
   "source": [
    "# Data params\n",
    "# Sequence Length\n",
    "sequence_length = 10   # of words in a sequence\n",
    "\n",
    "# Batch Size\n",
    "batch_size = 64 \n",
    "\n",
    "# data loader  \n",
    "train_loader = batch_data(int_text, sequence_length, batch_size)"
   ]
  },
  {
   "cell_type": "code",
   "execution_count": 35,
   "metadata": {},
   "outputs": [],
   "source": [
    "# Training parameters\n",
    "# Number of Epochs\n",
    "num_epochs = 30\n",
    "\n",
    "# Learning Rate\n",
    "learning_rate = 0.001 \n",
    "\n",
    "# Model parameters\n",
    "# Vocab size and output size\n",
    "output_size = vocab_size = len(vocab_to_int) \n",
    "\n",
    "# Embedding Dimension\n",
    "embedding_dim = 300\n",
    "\n",
    "# Hidden Dimension\n",
    "hidden_dim = 512\n",
    "\n",
    "# Number of RNN Layers\n",
    "n_layers = 2\n",
    "\n",
    "# Show stats for every n number of batches\n",
    "show_every_n_batches = 500"
   ]
  },
  {
   "cell_type": "markdown",
   "metadata": {},
   "source": [
    "### Train\n",
    "In the next cell, I will train the neural network on the pre-processed data. In general, the results are better with larger hidden and n_layer dimensions, but larger models take a longer time to train. "
   ]
  },
  {
   "cell_type": "code",
   "execution_count": 36,
   "metadata": {
    "scrolled": true
   },
   "outputs": [
    {
     "name": "stdout",
     "output_type": "stream",
     "text": [
      "Training for 30 epoch(s)...\n",
      "Epoch:    1/30    Loss: 5.395510953426361\n",
      "\n",
      "Loss decreased. Saving the model...\n"
     ]
    },
    {
     "name": "stderr",
     "output_type": "stream",
     "text": [
      "/opt/conda/lib/python3.6/site-packages/torch/serialization.py:193: UserWarning: Couldn't retrieve source code for container of type RNN. It won't be checked for correctness upon loading.\n",
      "  \"type \" + obj.__name__ + \". It won't be checked \"\n"
     ]
    },
    {
     "name": "stdout",
     "output_type": "stream",
     "text": [
      "Epoch:    1/30    Loss: 4.85286203622818\n",
      "\n",
      "Loss decreased. Saving the model...\n",
      "Epoch:    2/30    Loss: 4.448871087219755\n",
      "\n",
      "Loss decreased. Saving the model...\n",
      "Epoch:    2/30    Loss: 4.272874928951263\n",
      "\n",
      "Loss decreased. Saving the model...\n",
      "Epoch:    3/30    Loss: 4.074918312386086\n",
      "\n",
      "Loss decreased. Saving the model...\n",
      "Epoch:    3/30    Loss: 3.9594917125701903\n",
      "\n",
      "Loss decreased. Saving the model...\n",
      "Epoch:    4/30    Loss: 3.7544392849351467\n",
      "\n",
      "Loss decreased. Saving the model...\n",
      "Epoch:    4/30    Loss: 3.715929986000061\n",
      "\n",
      "Loss decreased. Saving the model...\n",
      "Epoch:    5/30    Loss: 3.505082797817643\n",
      "\n",
      "Loss decreased. Saving the model...\n",
      "Epoch:    5/30    Loss: 3.435906894683838\n",
      "\n",
      "Loss decreased. Saving the model...\n",
      "Epoch:    6/30    Loss: 3.2340487768628297\n",
      "\n",
      "Loss decreased. Saving the model...\n",
      "Epoch:    6/30    Loss: 3.182234263420105\n",
      "\n",
      "Loss decreased. Saving the model...\n",
      "Epoch:    7/30    Loss: 2.9605577573316193\n",
      "\n",
      "Loss decreased. Saving the model...\n",
      "Epoch:    7/30    Loss: 2.9356576843261717\n",
      "\n",
      "Loss decreased. Saving the model...\n",
      "Epoch:    8/30    Loss: 2.7329575810314313\n",
      "\n",
      "Loss decreased. Saving the model...\n",
      "Epoch:    8/30    Loss: 2.6909633255004883\n",
      "\n",
      "Loss decreased. Saving the model...\n",
      "Epoch:    9/30    Loss: 2.5209950014385436\n",
      "\n",
      "Loss decreased. Saving the model...\n",
      "Epoch:    9/30    Loss: 2.4832649488449094\n",
      "\n",
      "Loss decreased. Saving the model...\n",
      "Epoch:   10/30    Loss: 2.331106998308075\n",
      "\n",
      "Loss decreased. Saving the model...\n",
      "Epoch:   10/30    Loss: 2.3129255051612856\n",
      "\n",
      "Loss decreased. Saving the model...\n",
      "Epoch:   11/30    Loss: 2.160900499084005\n",
      "\n",
      "Loss decreased. Saving the model...\n",
      "Epoch:   11/30    Loss: 2.1472669196128846\n",
      "\n",
      "Loss decreased. Saving the model...\n",
      "Epoch:   12/30    Loss: 2.016437161543845\n",
      "\n",
      "Loss decreased. Saving the model...\n",
      "Epoch:   12/30    Loss: 2.0246408767700195\n",
      "\n",
      "Loss decreased. Saving the model...\n",
      "Epoch:   13/30    Loss: 1.8853166193508262\n",
      "\n",
      "Loss decreased. Saving the model...\n",
      "Epoch:   13/30    Loss: 1.8939113647937775\n",
      "\n",
      "Loss decreased. Saving the model...\n",
      "Epoch:   14/30    Loss: 1.7616265528826855\n",
      "\n",
      "Loss decreased. Saving the model...\n",
      "Epoch:   14/30    Loss: 1.7833619060516357\n",
      "\n",
      "Loss decreased. Saving the model...\n",
      "Epoch:   15/30    Loss: 1.6632291790403941\n",
      "\n",
      "Loss decreased. Saving the model...\n",
      "Epoch:   15/30    Loss: 1.6964751408100127\n",
      "\n",
      "Loss decreased. Saving the model...\n",
      "Epoch:   16/30    Loss: 1.5617402327262748\n",
      "\n",
      "Loss decreased. Saving the model...\n",
      "Epoch:   16/30    Loss: 1.58580238032341\n",
      "\n",
      "Loss decreased. Saving the model...\n",
      "Epoch:   17/30    Loss: 1.4921018402766062\n",
      "\n",
      "Loss decreased. Saving the model...\n",
      "Epoch:   17/30    Loss: 1.4930698963403701\n",
      "\n",
      "Loss decreased. Saving the model...\n",
      "Epoch:   18/30    Loss: 1.4050051825609169\n",
      "\n",
      "Loss decreased. Saving the model...\n",
      "Epoch:   18/30    Loss: 1.4350079412460328\n",
      "\n",
      "Loss decreased. Saving the model...\n",
      "Epoch:   19/30    Loss: 1.3468363046490694\n",
      "\n",
      "Loss decreased. Saving the model...\n",
      "Epoch:   19/30    Loss: 1.3581214582920074\n",
      "\n",
      "Loss decreased. Saving the model...\n",
      "Epoch:   20/30    Loss: 1.2769336817006556\n",
      "\n",
      "Loss decreased. Saving the model...\n",
      "Epoch:   20/30    Loss: 1.2987670369148254\n",
      "\n",
      "Loss decreased. Saving the model...\n",
      "Epoch:   21/30    Loss: 1.2252256268006416\n",
      "\n",
      "Loss decreased. Saving the model...\n",
      "Epoch:   21/30    Loss: 1.2362847452163697\n",
      "\n",
      "Loss decreased. Saving the model...\n",
      "Epoch:   22/30    Loss: 1.1821503190826406\n",
      "\n",
      "Loss decreased. Saving the model...\n",
      "Epoch:   22/30    Loss: 1.1873494976758956\n",
      "\n",
      "Loss decreased. Saving the model...\n",
      "Epoch:   23/30    Loss: 1.1204305019963052\n",
      "\n",
      "Loss decreased. Saving the model...\n",
      "Epoch:   23/30    Loss: 1.1478420776128768\n",
      "\n",
      "Loss decreased. Saving the model...\n",
      "Epoch:   24/30    Loss: 1.0784131977828573\n",
      "\n",
      "Loss decreased. Saving the model...\n",
      "Epoch:   24/30    Loss: 1.1070025683641433\n",
      "\n",
      "Loss decreased. Saving the model...\n",
      "Epoch:   25/30    Loss: 1.0443410857870805\n",
      "\n",
      "Loss decreased. Saving the model...\n",
      "Epoch:   25/30    Loss: 1.0645292990207673\n",
      "\n",
      "Loss decreased. Saving the model...\n",
      "Epoch:   26/30    Loss: 1.0045685212102364\n",
      "\n",
      "Loss decreased. Saving the model...\n",
      "Epoch:   26/30    Loss: 1.0293030552864075\n",
      "\n",
      "Loss decreased. Saving the model...\n",
      "Epoch:   27/30    Loss: 0.9860239492090616\n",
      "\n",
      "Loss decreased. Saving the model...\n",
      "Epoch:   27/30    Loss: 0.9831016368865967\n",
      "\n",
      "Loss decreased. Saving the model...\n",
      "Epoch:   28/30    Loss: 0.9406731404179545\n",
      "\n",
      "Loss decreased. Saving the model...\n",
      "Epoch:   28/30    Loss: 0.9635867567062378\n",
      "\n",
      "Loss decreased. Saving the model...\n",
      "Epoch:   29/30    Loss: 0.9326104506209123\n",
      "\n",
      "Loss decreased. Saving the model...\n",
      "Epoch:   29/30    Loss: 0.9442276043891906\n",
      "\n",
      "Loss decreased. Saving the model...\n",
      "Epoch:   30/30    Loss: 0.8885233383990018\n",
      "\n",
      "Loss decreased. Saving the model...\n",
      "Epoch:   30/30    Loss: 0.9164795071482659\n",
      "\n",
      "Loss decreased. Saving the model...\n"
     ]
    }
   ],
   "source": [
    "# create model and move to gpu if available\n",
    "rnn = RNN(vocab_size, output_size, embedding_dim, hidden_dim, n_layers, dropout=0.5)\n",
    "if train_on_gpu:\n",
    "    rnn.cuda()\n",
    "\n",
    "# defining loss and optimization functions for training\n",
    "optimizer = torch.optim.Adam(rnn.parameters(), lr=learning_rate)\n",
    "criterion = nn.CrossEntropyLoss()\n",
    "\n",
    "# training the model\n",
    "trained_rnn = train_rnn(rnn, batch_size, optimizer, criterion, num_epochs, show_every_n_batches)"
   ]
  },
  {
   "cell_type": "markdown",
   "metadata": {},
   "source": [
    "### Note: choosing the model hyperparameters"
   ]
  },
  {
   "cell_type": "markdown",
   "metadata": {},
   "source": [
    "I have started with Googling 'text generation LSTM architecture' to check papers describing state-of-art architectures and best practices for text generation. As a result, I ended up reading the following papers: \n",
    "\n",
    "1. [GTR-LSTM: A Triple Encoder for Sentence Generation from RDF Data (Trisedya, Qi, Zhang, Wang)](http://aclweb.org/anthology/P18-1151)\n",
    "2. [Deep Poetry: Word-Level and Character-Level Language Models for Shakespearean Sonnet Generation (Xie, Rastogi)](https://web.stanford.edu/class/cs224n/reports/2762063.pdf)\n",
    "\n",
    "I also skimmed through some of the references mentioned in the above two papers. \n",
    "\n",
    "My conclusion was that the following parameters should be used for the task: \n",
    "- 300-dimension word embeddings \n",
    "- 512 neurons in the hidden layers \n",
    "- batch size of 64 \n",
    "\n",
    "The paper #2 has some insights on how perplexity changes depending on the number of layers, where we could see that the performance pretty much flattens out after the 3rd layer. Since out goal in this exercise is to achieve loss lower than 3.5 (not too stringent), I thought that a solution with 2 hidden layers could be enough.  \n",
    "\n",
    "Number of epochs and learning rate was chosen arbitrarily. I usually start with LR of 0.001 and 10 or 20 epochs and increase both if the performance is unsatisfactory. After a few iterations, I increased the number of epochs to 30. "
   ]
  },
  {
   "cell_type": "code",
   "execution_count": 37,
   "metadata": {},
   "outputs": [],
   "source": [
    "# Checkpoint\n",
    "import torch\n",
    "import helper\n",
    "import problem_unittests as tests\n",
    "\n",
    "_, vocab_to_int, int_to_vocab, token_dict = helper.load_preprocess()\n",
    "trained_rnn = helper.load_model('./save/trained_rnn')"
   ]
  },
  {
   "cell_type": "markdown",
   "metadata": {},
   "source": [
    "## Generate TV Script\n",
    "With the network trained and saved, we can use it to generate a new, \"fake\" Seinfeld TV script. \n",
    "\n",
    "### Generate Text\n",
    "To generate the text, the network needs to start with a single word and repeat its predictions until it reaches a set length. I will be using the `generate` function to do this. It takes a word id to start with, `prime_id`, and generates a set length of text, `predict_len`. It uses topk sampling to introduce some randomness in choosing the most likely next word, given an output set of word scores."
   ]
  },
  {
   "cell_type": "code",
   "execution_count": 38,
   "metadata": {},
   "outputs": [],
   "source": [
    "import torch.nn.functional as F\n",
    "\n",
    "def generate(rnn, prime_id, int_to_vocab, token_dict, pad_value, predict_len=100):\n",
    "    \"\"\"\n",
    "    Generating text using the neural network\n",
    "    :param decoder: The PyTorch Module that holds the trained neural network\n",
    "    :param prime_id: The word id to start the first prediction\n",
    "    :param int_to_vocab: Dict of word id keys to word values\n",
    "    :param token_dict: Dict of puncuation tokens keys to puncuation values\n",
    "    :param pad_value: The value used to pad a sequence\n",
    "    :param predict_len: The length of text to generate\n",
    "    :return: The generated text\n",
    "    \"\"\"\n",
    "    rnn.eval()\n",
    "    \n",
    "    # create a sequence (batch_size=1) with the prime_id\n",
    "    current_seq = np.full((1, sequence_length), pad_value)\n",
    "    current_seq[-1][-1] = prime_id\n",
    "    predicted = [int_to_vocab[prime_id]]\n",
    "    \n",
    "    for _ in range(predict_len):\n",
    "        if train_on_gpu:\n",
    "            current_seq = torch.LongTensor(current_seq).cuda()\n",
    "        else:\n",
    "            current_seq = torch.LongTensor(current_seq)\n",
    "        \n",
    "        # initialize the hidden state\n",
    "        hidden = rnn.init_hidden(current_seq.size(0))\n",
    "        \n",
    "        # get the output of the rnn\n",
    "        output, _ = rnn(current_seq, hidden)\n",
    "        \n",
    "        # get the next word probabilities\n",
    "        p = F.softmax(output, dim=1).data\n",
    "        if(train_on_gpu):\n",
    "            p = p.cpu() # move to cpu\n",
    "         \n",
    "        # use top_k sampling to get the index of the next word\n",
    "        top_k = 5\n",
    "        p, top_i = p.topk(top_k)\n",
    "        top_i = top_i.numpy().squeeze()\n",
    "        \n",
    "        # select the likely next word index with some element of randomness\n",
    "        p = p.numpy().squeeze()\n",
    "        word_i = np.random.choice(top_i, p=p/p.sum())\n",
    "        \n",
    "        # retrieve that word from the dictionary\n",
    "        word = int_to_vocab[word_i]\n",
    "        predicted.append(word)     \n",
    "        \n",
    "        # the generated word becomes the next \"current sequence\" and the cycle can continue\n",
    "        current_seq = np.roll(current_seq, -1, 1)\n",
    "        current_seq[-1][-1] = word_i\n",
    "    \n",
    "    gen_sentences = ' '.join(predicted)\n",
    "    \n",
    "    # Replace punctuation tokens\n",
    "    for key, token in token_dict.items():\n",
    "        ending = ' ' if key in ['\\n', '(', '\"'] else ''\n",
    "        gen_sentences = gen_sentences.replace(' ' + token.lower(), key)\n",
    "    gen_sentences = gen_sentences.replace('\\n ', '\\n')\n",
    "    gen_sentences = gen_sentences.replace('( ', '(')\n",
    "    \n",
    "    # return all the sentences\n",
    "    return gen_sentences"
   ]
  },
  {
   "cell_type": "markdown",
   "metadata": {},
   "source": [
    "### Generating a New Script\n",
    "It's time to generate the text. We will set `gen_length` to the length of TV script we want to generate and set `prime_word` to any one of the following to start the prediction:\n",
    "- \"jerry\"\n",
    "- \"elaine\"\n",
    "- \"george\"\n",
    "- \"kramer\"\n",
    "\n",
    "You can set the prime word to _any word_ in our dictionary, but it's best to start with a name for generating a TV script. (You can also start with any other names you find in the original text file!)"
   ]
  },
  {
   "cell_type": "code",
   "execution_count": 168,
   "metadata": {},
   "outputs": [],
   "source": [
    "gen_length = 250 # modify the length to your preference\n",
    "prime_word = 'george' # name for starting the script\n",
    "\n",
    "# Generate the script\n",
    "pad_word = helper.SPECIAL_WORDS['PADDING']\n",
    "generated_script = generate(trained_rnn, vocab_to_int[prime_word + ':'], \n",
    "                            int_to_vocab, token_dict, vocab_to_int[pad_word], gen_length)"
   ]
  },
  {
   "cell_type": "markdown",
   "metadata": {},
   "source": [
    "### Favourite generated scripts\n",
    "\n",
    "I have generated a number of scripts and I have found several of them especially fascinating. Here they are: "
   ]
  },
  {
   "cell_type": "markdown",
   "metadata": {},
   "source": [
    "**This one is about travelling apparently:**"
   ]
  },
  {
   "cell_type": "code",
   "execution_count": 169,
   "metadata": {
    "scrolled": false
   },
   "outputs": [
    {
     "name": "stdout",
     "output_type": "stream",
     "text": [
      "elaine: for two months.\n",
      "\n",
      "george: alright look, if he was being enough to gamma sometime?\n",
      "\n",
      "elaine: well. well, i didn't do anything. it was something. i only find my friend.\n",
      "\n",
      "jerry: so, winona a woman?\n",
      "\n",
      "george:(to the phone) all right.\n",
      "\n",
      "jerry:(pointing) well, what d'you got to do with?\n",
      "\n",
      "george: i told everything i was doing when i saw my car. this shirt can be a meal for me.\n",
      "\n",
      "jerry: oh, yeah.\n",
      "\n",
      "george: hey.\n",
      "\n",
      "jerry: hey, lainie.\n",
      "\n",
      "kramer:(to the phone) all right, all right. all right. ill tell you something, all day.\n",
      "\n",
      "rental oh, anyway anyway\n",
      "\n",
      "elaine: yeah.\n",
      "\n",
      "jodi: hi, why don't you just double this thing.\n",
      "\n",
      "jerry: what, are you crazy?\n",
      "\n",
      "jerry: i'm sorry it's not just just review off the clubs.\n",
      "\n",
      "jerry: but you don't see if you wouldn't do it on me.(hurriedly laughs)\n",
      "\n",
      "jerry: oh, hi! no no no no no no. i know, look, but im not going to do that.\n",
      "\n",
      "jerry: well, i didn't think it was bawdy.\n"
     ]
    }
   ],
   "source": [
    "print(v1)"
   ]
  },
  {
   "cell_type": "markdown",
   "metadata": {},
   "source": [
    "**This one is very intense:**"
   ]
  },
  {
   "cell_type": "code",
   "execution_count": 170,
   "metadata": {},
   "outputs": [
    {
     "name": "stdout",
     "output_type": "stream",
     "text": [
      "kramer: two countries. two day jerry. no one's not talking about.\n",
      "\n",
      "jerry: well, i guess she's gonna go down to my fianc.\n",
      "\n",
      "jerry:(joking) oh man, good. elaine doesn't know. i really don't think we lost the place i'm a gift.\n",
      "\n",
      "jerry: oh, i don't know what to do. you know, i don't think so much promise about for this guy. wow. ooh, tell me. and i don't know why you're going to pay me! ha ha ha ha ha ha ha ha ha ha ha!!!!!!!!!!!!!!!!!!!!!!.......... velvet spite, wyck, i'd come off.\n",
      "\n",
      "george: i have no idea how i feel about about that.\n",
      "\n",
      "jerry: well, rabbi, we- uh, i've always wanted to maintain at their face as well, it was fun. i was watching my feet, and some yesterday) oh, wait.\n",
      "\n",
      "kramer:(slapping) hey everybody(to jerry) well, i guess i was wrong. i always don't know, i feel!\n",
      "\n",
      "jerry: well, i don't know\n",
      "\n",
      "george: no no no no, that'll\n"
     ]
    }
   ],
   "source": [
    "print(v2)"
   ]
  },
  {
   "cell_type": "markdown",
   "metadata": {},
   "source": [
    "**This one is also about travel but in Monty Python kind of style**. I think I am going to borrow a few phrases from here!"
   ]
  },
  {
   "cell_type": "code",
   "execution_count": 172,
   "metadata": {},
   "outputs": [
    {
     "name": "stdout",
     "output_type": "stream",
     "text": [
      "jerry: two countries. when they ask him that, i was babbling with you.\n",
      "\n",
      "george: i can't tell you that, i said hey, you think she's selling gonna be the bookie.\n",
      "\n",
      "dana: i have money.\n",
      "\n",
      "helen: oh. hello, ok.. i am furious i'm very interested.\n",
      "\n",
      "jerry: what? now, how do you figure me?\n",
      "\n",
      "jerry: well, alec are you goin' there? what, you wanna get her up? cause shed? what the hell is this?\n",
      "\n",
      "jack: oh, i read it in 1971.\n",
      "\n",
      "bystander station, paper.\n",
      "\n",
      "elaine:(calling her) now, i'm back to you for a position, then you can see the difference, they're empty as--\n",
      "\n",
      "george:(suspicious) yes. ill choose(back to the booth up) oh, jerry, can i bring a book down together at them.(shows george is kramer) what are you doing in there? they were tired, and i am dating late.\n",
      "\n",
      "elaine:(picking the phone) all right, all right, fine. meet the subject?\n",
      "\n",
      "kramer: yes. yes. oh, yeah..(finally takes a breath, she can explain it back back.\n",
      "\n",
      "\n"
     ]
    }
   ],
   "source": [
    "print(v3)"
   ]
  },
  {
   "cell_type": "markdown",
   "metadata": {},
   "source": [
    "**And the last one, a drama thriller**"
   ]
  },
  {
   "cell_type": "code",
   "execution_count": 173,
   "metadata": {},
   "outputs": [
    {
     "name": "stdout",
     "output_type": "stream",
     "text": [
      "george: double there.\n",
      "\n",
      "kramer: oh, you know, lloyd.. you're concerned. concerned...\n",
      "\n",
      "fred:(interrupting) oh, jerry look at the tickets, you know what that's uh... didn't you believe this?\n",
      "\n",
      "jerry: i don't want to save a position.\n",
      "\n",
      "elaine: really? what's wrong?(starts to come to the table and pulls his feet of it.\n",
      "\n",
      "stewardess: h&h, will not rather have a little problem regarding. yeah.\n",
      "\n",
      "kramer: ahhh get off.\n",
      "\n",
      "susan: well, i'm sorry. i'm just getting rid of them for this.\n",
      "\n",
      "kramer: mmm.\n",
      "\n",
      "jerry: oh, hi, hi, listen, uh...\n",
      "\n",
      "elaine:(to jerry) so then we were gonna be an eye!\n",
      "\n",
      "salesman: sounds really bad?\n",
      "\n",
      "jerry: no.\n",
      "\n",
      "elaine: what are you doing?\n",
      "\n",
      "jerry: i don't know, but they don't get the job. the only time you could have overcharged. this probably be fun.(claps hands to leave) well, here, uh, you want to trade you what time is that, you were going to do with me.\n",
      "\n",
      "jerry: well, i should ask him. i have to say, i'm\n"
     ]
    }
   ],
   "source": [
    "print(v4)"
   ]
  },
  {
   "cell_type": "markdown",
   "metadata": {},
   "source": [
    "Let's save an example: "
   ]
  },
  {
   "cell_type": "code",
   "execution_count": 174,
   "metadata": {},
   "outputs": [],
   "source": [
    "generated_script = v3"
   ]
  },
  {
   "cell_type": "code",
   "execution_count": 175,
   "metadata": {},
   "outputs": [],
   "source": [
    "# save script to a text file\n",
    "f =  open(\"generated_script_1.txt\",\"w\")\n",
    "f.write(generated_script)\n",
    "f.close()"
   ]
  },
  {
   "cell_type": "markdown",
   "metadata": {},
   "source": [
    "# The TV Script is Not Perfect\n",
    "It's ok if the TV script doesn't make perfect sense. It should look like alternating lines of dialogue, here is one such example of a few generated lines.\n",
    "\n",
    "### Example generated script\n",
    "\n",
    ">jerry: what about me?\n",
    ">\n",
    ">jerry: i don't have to wait.\n",
    ">\n",
    ">kramer:(to the sales table)\n",
    ">\n",
    ">elaine:(to jerry) hey, look at this, i'm a good doctor.\n",
    ">\n",
    ">newman:(to elaine) you think i have no idea of this...\n",
    ">\n",
    ">elaine: oh, you better take the phone, and he was a little nervous.\n",
    ">\n",
    ">kramer:(to the phone) hey, hey, jerry, i don't want to be a little bit.(to kramer and jerry) you can't.\n",
    ">\n",
    ">jerry: oh, yeah. i don't even know, i know.\n",
    ">\n",
    ">jerry:(to the phone) oh, i know.\n",
    ">\n",
    ">kramer:(laughing) you know...(to jerry) you don't know.\n",
    "\n",
    "You can see that there are multiple characters that say (somewhat) complete sentences, but it doesn't have to be perfect! It takes quite a while to get good results, and often, you'll have to use a smaller vocabulary (and discard uncommon words), or get more data.  The Seinfeld dataset is about 3.4 MB, which is big enough for our purposes; for script generation you'll want more than 1 MB of text, generally. "
   ]
  }
 ],
 "metadata": {
  "kernelspec": {
   "display_name": "Python 3",
   "language": "python",
   "name": "python3"
  },
  "language_info": {
   "codemirror_mode": {
    "name": "ipython",
    "version": 3
   },
   "file_extension": ".py",
   "mimetype": "text/x-python",
   "name": "python",
   "nbconvert_exporter": "python",
   "pygments_lexer": "ipython3",
   "version": "3.7.1"
  },
  "widgets": {
   "state": {},
   "version": "1.1.2"
  }
 },
 "nbformat": 4,
 "nbformat_minor": 1
}
